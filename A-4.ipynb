{
 "cells": [
  {
   "cell_type": "markdown",
   "metadata": {},
   "source": [
    "## 1.1. Write a Python Program(with class concepts) to find the area of the triangle using the below formula.\n",
    "\n",
    "area = (s*(s-a)*(s-b)*(s-c)) ** 0.5"
   ]
  },
  {
   "cell_type": "code",
   "execution_count": 2,
   "metadata": {},
   "outputs": [
    {
     "name": "stdout",
     "output_type": "stream",
     "text": [
      "l1 :2\n",
      "l2 :3\n",
      "l3 :4\n",
      "area : 2.9047375096555625\n"
     ]
    }
   ],
   "source": [
    "class sides_of_triangle():\n",
    "    def __init__(self, l1, l2, l3):\n",
    "        self.l1 = float(l1)\n",
    "        self.l2 = float(l2)\n",
    "        self.l3 = float(l3)\n",
    "l1 = int(input('l1 :'))\n",
    "l2 = int(input('l2 :'))\n",
    "l3 = int(input('l3 :'))\n",
    "\n",
    "class area_of_triangle(sides_of_triangle):\n",
    "    def __init__(self,l1,l2,l3):\n",
    "        super().__init__(l1,l2,l3)\n",
    "        \n",
    "    def get_area(self):\n",
    "        s = (l1 + l2 + l3) / 2\n",
    "        return (s*(s-l1)*(s-l2)*(s-l3)) ** 0.5\n",
    "        \n",
    "\n",
    "t = area_of_triangle(l1,l2,l3)\n",
    "print(\"area : {}\".format(t.get_area()))\n",
    "    "
   ]
  },
  {
   "cell_type": "markdown",
   "metadata": {},
   "source": [
    "## 1.2 Write a function filter_long_words() that takes a list of words and an integer n and returns the list of words that are longer than n."
   ]
  },
  {
   "cell_type": "code",
   "execution_count": 7,
   "metadata": {},
   "outputs": [
    {
     "data": {
      "text/plain": [
       "['paridhi']"
      ]
     },
     "execution_count": 7,
     "metadata": {},
     "output_type": "execute_result"
    }
   ],
   "source": [
    "def filter_long_words(list1, n):\n",
    "    list2 =[]\n",
    "    for word in list1:\n",
    "        if len(word) > n:\n",
    "            list2.append(word)\n",
    "    return list2\n",
    "\n",
    "list1 = ['paridhi', 'modi', 'table']\n",
    "filter_long_words(list1, 5)"
   ]
  },
  {
   "cell_type": "markdown",
   "metadata": {},
   "source": [
    "## 2.1 Write a Python program using function concept that maps list of words into a list of integers representing the lengths of the corresponding words."
   ]
  },
  {
   "cell_type": "code",
   "execution_count": 2,
   "metadata": {},
   "outputs": [],
   "source": [
    "def len_of_words(l1):\n",
    "    l2 =[]\n",
    "    for word in l1:\n",
    "        x = len(word) \n",
    "        l2.append(x)\n",
    "    return l2\n",
    "        "
   ]
  },
  {
   "cell_type": "code",
   "execution_count": 5,
   "metadata": {},
   "outputs": [
    {
     "data": {
      "text/plain": [
       "[3, 4, 5]"
      ]
     },
     "execution_count": 5,
     "metadata": {},
     "output_type": "execute_result"
    }
   ],
   "source": [
    "l1 = ['gfd', 'chne', 'atchj']\n",
    "len_of_words(l1)"
   ]
  },
  {
   "cell_type": "markdown",
   "metadata": {},
   "source": [
    "## 2.2 Function which takes a character (i.e. a string of length 1) and returns True if it is a vowel, False otherwise."
   ]
  },
  {
   "cell_type": "code",
   "execution_count": 6,
   "metadata": {},
   "outputs": [],
   "source": [
    "l1 = ['a', 'e', 'i', 'o', 'u']\n",
    "def vovels(x):\n",
    "    if x in l1:\n",
    "        return True\n",
    "    else:\n",
    "        retu\n"
   ]
  },
  {
   "cell_type": "code",
   "execution_count": 9,
   "metadata": {},
   "outputs": [],
   "source": [
    "vovels('d')"
   ]
  },
  {
   "cell_type": "code",
   "execution_count": null,
   "metadata": {},
   "outputs": [],
   "source": []
  }
 ],
 "metadata": {
  "kernelspec": {
   "display_name": "Python 3",
   "language": "python",
   "name": "python3"
  },
  "language_info": {
   "codemirror_mode": {
    "name": "ipython",
    "version": 3
   },
   "file_extension": ".py",
   "mimetype": "text/x-python",
   "name": "python",
   "nbconvert_exporter": "python",
   "pygments_lexer": "ipython3",
   "version": "3.8.3"
  }
 },
 "nbformat": 4,
 "nbformat_minor": 4
}
